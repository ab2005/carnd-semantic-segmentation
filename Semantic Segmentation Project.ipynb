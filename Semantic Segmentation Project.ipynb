{
 "cells": [
  {
   "cell_type": "markdown",
   "metadata": {},
   "source": [
    "# Semantic Segmentation Project\n",
    "\n",
    "In this project, we'll label the pixels of a road in images using a Fully Convolutional Network (FCN).\n",
    "\n",
    "## Dataset\n",
    "We need to downloaded the Kitti Road dataset from [here](http://www.cvlibs.net/download.php?file=data_road.zip) . After extracting the dataset into the data folder we'll have the folder [data_road](data/data_road) with all the training and test images.\n"
   ]
  },
  {
   "cell_type": "markdown",
   "metadata": {
    "collapsed": true
   },
   "source": [
    " - [dave-msk/CarND-Semantic-Segmentation-Submission](https://github.com/dave-msk/CarND-Semantic-Segmentation-Submission)\n",
    " "
   ]
  },
  {
   "cell_type": "code",
   "execution_count": 1,
   "metadata": {
    "collapsed": false
   },
   "outputs": [
    {
     "name": "stdout",
     "output_type": "stream",
     "text": [
      "TensorFlow Version: 1.3.0\n"
     ]
    }
   ],
   "source": [
    "import os.path\n",
    "import shutil\n",
    "import tensorflow as tf\n",
    "import helper\n",
    "import warnings\n",
    "from distutils.version import LooseVersion\n",
    "import project_tests as tests\n",
    "\n",
    "# Check TensorFlow Version\n",
    "assert LooseVersion(tf.__version__) >= LooseVersion(\n",
    "    '1.0'), 'Please use TensorFlow version 1.0 or newer.  You are using {}'.format(tf.__version__)\n",
    "print('TensorFlow Version: {}'.format(tf.__version__))"
   ]
  },
  {
   "cell_type": "code",
   "execution_count": null,
   "metadata": {
    "collapsed": true
   },
   "outputs": [],
   "source": [
    "# Check for a GPU\n",
    "if not tf.test.gpu_device_name():\n",
    "    warnings.warn('No GPU found. Please use a GPU to train your neural network.')\n",
    "else:\n",
    "    print('Default GPU Device: {}'.format(tf.test.gpu_device_name()))"
   ]
  },
  {
   "cell_type": "code",
   "execution_count": 2,
   "metadata": {
    "collapsed": false
   },
   "outputs": [
    {
     "name": "stdout",
     "output_type": "stream",
     "text": [
      "test_load_vgg\n",
      "Tests Passed\n"
     ]
    }
   ],
   "source": [
    "def load_vgg(sess, vgg_path):\n",
    "    \"\"\"\n",
    "    Load Pretrained VGG Model into TensorFlow.\n",
    "    :param sess: TensorFlow Session\n",
    "    :param vgg_path: Path to vgg folder, containing \"variables/\" and \"saved_model.pb\"\n",
    "    :return: Tuple of Tensors from VGG model (image_input, keep_prob, layer3_out, layer4_out, layer7_out)\n",
    "    \"\"\"\n",
    "    vgg_tag = 'vgg16'\n",
    "    vgg_input_tensor_name = 'image_input:0'\n",
    "    vgg_keep_prob_tensor_name = 'keep_prob:0'\n",
    "    vgg_layer3_out_tensor_name = 'layer3_out:0'\n",
    "    vgg_layer4_out_tensor_name = 'layer4_out:0'\n",
    "    vgg_layer7_out_tensor_name = 'layer7_out:0'\n",
    "    vgg_proto = tf.saved_model.loader.load(sess, [vgg_tag], vgg_path)\n",
    "    vgg = sess.graph\n",
    "    image_input = vgg.get_tensor_by_name(vgg_input_tensor_name)\n",
    "    keep_prob = vgg.get_tensor_by_name(vgg_keep_prob_tensor_name)\n",
    "    layer3_out = vgg.get_tensor_by_name(vgg_layer3_out_tensor_name)\n",
    "    layer4_out = vgg.get_tensor_by_name(vgg_layer4_out_tensor_name)\n",
    "    layer7_out = vgg.get_tensor_by_name(vgg_layer7_out_tensor_name)\n",
    "    return image_input, keep_prob, layer3_out, layer4_out, layer7_out\n",
    "\n",
    "tests.test_load_vgg(load_vgg, tf)\n"
   ]
  },
  {
   "cell_type": "code",
   "execution_count": 3,
   "metadata": {
    "collapsed": false
   },
   "outputs": [
    {
     "name": "stdout",
     "output_type": "stream",
     "text": [
      "Tests Passed\n"
     ]
    }
   ],
   "source": [
    "def layers(vgg_layer3_out, vgg_layer4_out, vgg_layer7_out, num_classes):\n",
    "    \"\"\"\n",
    "    Create the layers for a fully convolutional network.  Build skip-layers using the vgg layers.\n",
    "    :param vgg_layer7_out: TF Tensor for VGG Layer 3 output\n",
    "    :param vgg_layer4_out: TF Tensor for VGG Layer 4 output\n",
    "    :param vgg_layer3_out: TF Tensor for VGG Layer 7 output\n",
    "    :param num_classes: Number of classes to classify\n",
    "    :return: The Tensor for the last layer of output\n",
    "    \"\"\"\n",
    "    decode_layer1_preskip0 = tf.layers.conv2d_transpose(vgg_layer7_out, 512, (2, 2), (2, 2), name='decode_layer1_preskip0')\n",
    "    decode_layer1_preskip1 = tf.layers.conv2d(vgg_layer4_out, 512, (1, 1), (1, 1), name='decode_layer1_preskip1')\n",
    "    decode_layer1_out = tf.add(decode_layer1_preskip0, decode_layer1_preskip1, name='decode_layer1_out')\n",
    "    decode_layer2_preskip0 = tf.layers.conv2d_transpose(decode_layer1_out, 256, (2, 2), (2, 2), name='decode_layer2_preskip0')\n",
    "    decode_layer2_preskip1 = tf.layers.conv2d(vgg_layer3_out, 256, (1, 1), (1, 1), name='decode_layer2_preskip1')\n",
    "    decode_layer2_out = tf.add(decode_layer2_preskip0, decode_layer2_preskip1, name='decode_layer2_out')\n",
    "    decode_layer3_out = tf.layers.conv2d_transpose(decode_layer2_out, 128, (2, 2), (2, 2), name='decode_layer3_out')\n",
    "    decode_layer4_out = tf.layers.conv2d_transpose(decode_layer3_out, 64, (2, 2), (2, 2), name='decode_layer4_out')\n",
    "    decode_layer5_out = tf.layers.conv2d_transpose(decode_layer4_out, num_classes, (2, 2), (2, 2), name='fcn_out')\n",
    "    return decode_layer5_out\n",
    "\n",
    "tests.test_layers(layers)\n"
   ]
  },
  {
   "cell_type": "code",
   "execution_count": null,
   "metadata": {
    "collapsed": true
   },
   "outputs": [],
   "source": []
  }
 ],
 "metadata": {
  "kernelspec": {
   "display_name": "Python 3",
   "language": "python",
   "name": "python3"
  },
  "language_info": {
   "codemirror_mode": {
    "name": "ipython",
    "version": 3
   },
   "file_extension": ".py",
   "mimetype": "text/x-python",
   "name": "python",
   "nbconvert_exporter": "python",
   "pygments_lexer": "ipython3",
   "version": "3.5.2"
  },
  "widgets": {
   "state": {},
   "version": "1.1.2"
  }
 },
 "nbformat": 4,
 "nbformat_minor": 2
}
